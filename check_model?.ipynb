{
 "cells": [
  {
   "cell_type": "code",
   "execution_count": 1,
   "metadata": {},
   "outputs": [],
   "source": [
    "import torch\n",
    "import torchvision.models as models\n",
    "import torchvision.transforms as transforms\n",
    "from PIL import Image\n",
    "import matplotlib.pyplot as plt"
   ]
  },
  {
   "cell_type": "code",
   "execution_count": 3,
   "metadata": {},
   "outputs": [
    {
     "name": "stderr",
     "output_type": "stream",
     "text": [
      "/home/giacomo/mambaforge/envs/cl_ssl/lib/python3.10/site-packages/torchvision/models/_utils.py:208: UserWarning: The parameter 'pretrained' is deprecated since 0.13 and may be removed in the future, please use 'weights' instead.\n",
      "  warnings.warn(\n",
      "/home/giacomo/mambaforge/envs/cl_ssl/lib/python3.10/site-packages/torchvision/models/_utils.py:223: UserWarning: Arguments other than a weight enum or `None` for 'weights' are deprecated since 0.13 and may be removed in the future. The current behavior is equivalent to passing `weights=None`.\n",
      "  warnings.warn(msg)\n"
     ]
    },
    {
     "data": {
      "text/plain": [
       "<All keys matched successfully>"
      ]
     },
     "execution_count": 3,
     "metadata": {},
     "output_type": "execute_result"
    }
   ],
   "source": [
    "# Load the ResNet-18 model\n",
    "resnet = models.resnet18(pretrained=False)  # Set pretrained to False because we're loading custom weights\n",
    "resnet.fc = torch.nn.Identity()  # Remove the fully connected layer (classifier) to get the encoder\n",
    "resnet.eval()  # Set the\n",
    "\n",
    "# Load the saved weights\n",
    "model_path = \"./logs/saved_encoder_11.pt\"\n",
    "resnet.load_state_dict(torch.load(model_path))"
   ]
  },
  {
   "cell_type": "code",
   "execution_count": 5,
   "metadata": {},
   "outputs": [],
   "source": [
    "\n",
    "# Generate a random torch image\n",
    "random_image = torch.rand(5, 3, 224, 224)  # Assuming the images are of size 3x224x224\n",
    "\n",
    "with torch.no_grad():\n",
    "    features = resnet(random_image)\n",
    "\n",
    "# # Convert the torch image to numpy array for visualization\n",
    "# image_np = np.transpose(random_image.numpy(), (1, 2, 0))\n",
    "\n",
    "# # Show the image and extracted features\n",
    "# show_features(image_np, features.squeeze().cpu().numpy())"
   ]
  },
  {
   "cell_type": "code",
   "execution_count": 6,
   "metadata": {},
   "outputs": [
    {
     "name": "stdout",
     "output_type": "stream",
     "text": [
      "tensor([[nan, nan, nan,  ..., nan, nan, nan],\n",
      "        [nan, nan, nan,  ..., nan, nan, nan],\n",
      "        [nan, nan, nan,  ..., nan, nan, nan],\n",
      "        [nan, nan, nan,  ..., nan, nan, nan],\n",
      "        [nan, nan, nan,  ..., nan, nan, nan]])\n"
     ]
    }
   ],
   "source": [
    "print(features)"
   ]
  },
  {
   "cell_type": "code",
   "execution_count": 8,
   "metadata": {},
   "outputs": [
    {
     "name": "stdout",
     "output_type": "stream",
     "text": [
      "Layer: conv1.weight, Max: nan, Min: nan\n",
      "Layer: bn1.weight, Max: nan, Min: nan\n",
      "Layer: bn1.bias, Max: nan, Min: nan\n",
      "Layer: layer1.0.conv1.weight, Max: nan, Min: nan\n",
      "Layer: layer1.0.bn1.weight, Max: nan, Min: nan\n",
      "Layer: layer1.0.bn1.bias, Max: nan, Min: nan\n",
      "Layer: layer1.0.conv2.weight, Max: nan, Min: nan\n",
      "Layer: layer1.0.bn2.weight, Max: nan, Min: nan\n",
      "Layer: layer1.0.bn2.bias, Max: nan, Min: nan\n",
      "Layer: layer1.1.conv1.weight, Max: nan, Min: nan\n",
      "Layer: layer1.1.bn1.weight, Max: nan, Min: nan\n",
      "Layer: layer1.1.bn1.bias, Max: nan, Min: nan\n",
      "Layer: layer1.1.conv2.weight, Max: nan, Min: nan\n",
      "Layer: layer1.1.bn2.weight, Max: nan, Min: nan\n",
      "Layer: layer1.1.bn2.bias, Max: nan, Min: nan\n",
      "Layer: layer2.0.conv1.weight, Max: nan, Min: nan\n",
      "Layer: layer2.0.bn1.weight, Max: nan, Min: nan\n",
      "Layer: layer2.0.bn1.bias, Max: nan, Min: nan\n",
      "Layer: layer2.0.conv2.weight, Max: nan, Min: nan\n",
      "Layer: layer2.0.bn2.weight, Max: nan, Min: nan\n",
      "Layer: layer2.0.bn2.bias, Max: nan, Min: nan\n",
      "Layer: layer2.0.downsample.0.weight, Max: nan, Min: nan\n",
      "Layer: layer2.0.downsample.1.weight, Max: nan, Min: nan\n",
      "Layer: layer2.0.downsample.1.bias, Max: nan, Min: nan\n",
      "Layer: layer2.1.conv1.weight, Max: nan, Min: nan\n",
      "Layer: layer2.1.bn1.weight, Max: nan, Min: nan\n",
      "Layer: layer2.1.bn1.bias, Max: nan, Min: nan\n",
      "Layer: layer2.1.conv2.weight, Max: nan, Min: nan\n",
      "Layer: layer2.1.bn2.weight, Max: nan, Min: nan\n",
      "Layer: layer2.1.bn2.bias, Max: nan, Min: nan\n",
      "Layer: layer3.0.conv1.weight, Max: nan, Min: nan\n",
      "Layer: layer3.0.bn1.weight, Max: nan, Min: nan\n",
      "Layer: layer3.0.bn1.bias, Max: nan, Min: nan\n",
      "Layer: layer3.0.conv2.weight, Max: nan, Min: nan\n",
      "Layer: layer3.0.bn2.weight, Max: nan, Min: nan\n",
      "Layer: layer3.0.bn2.bias, Max: nan, Min: nan\n",
      "Layer: layer3.0.downsample.0.weight, Max: nan, Min: nan\n",
      "Layer: layer3.0.downsample.1.weight, Max: nan, Min: nan\n",
      "Layer: layer3.0.downsample.1.bias, Max: nan, Min: nan\n",
      "Layer: layer3.1.conv1.weight, Max: nan, Min: nan\n",
      "Layer: layer3.1.bn1.weight, Max: nan, Min: nan\n",
      "Layer: layer3.1.bn1.bias, Max: nan, Min: nan\n",
      "Layer: layer3.1.conv2.weight, Max: nan, Min: nan\n",
      "Layer: layer3.1.bn2.weight, Max: nan, Min: nan\n",
      "Layer: layer3.1.bn2.bias, Max: nan, Min: nan\n",
      "Layer: layer4.0.conv1.weight, Max: nan, Min: nan\n",
      "Layer: layer4.0.bn1.weight, Max: nan, Min: nan\n",
      "Layer: layer4.0.bn1.bias, Max: nan, Min: nan\n",
      "Layer: layer4.0.conv2.weight, Max: nan, Min: nan\n",
      "Layer: layer4.0.bn2.weight, Max: nan, Min: nan\n",
      "Layer: layer4.0.bn2.bias, Max: nan, Min: nan\n",
      "Layer: layer4.0.downsample.0.weight, Max: nan, Min: nan\n",
      "Layer: layer4.0.downsample.1.weight, Max: nan, Min: nan\n",
      "Layer: layer4.0.downsample.1.bias, Max: nan, Min: nan\n",
      "Layer: layer4.1.conv1.weight, Max: nan, Min: nan\n",
      "Layer: layer4.1.bn1.weight, Max: nan, Min: nan\n",
      "Layer: layer4.1.bn1.bias, Max: nan, Min: nan\n",
      "Layer: layer4.1.conv2.weight, Max: nan, Min: nan\n",
      "Layer: layer4.1.bn2.weight, Max: nan, Min: nan\n",
      "Layer: layer4.1.bn2.bias, Max: nan, Min: nan\n"
     ]
    }
   ],
   "source": [
    "for name, param in resnet.named_parameters():\n",
    "    if param.requires_grad:\n",
    "        max_val = torch.max(param).item()\n",
    "        min_val = torch.min(param).item()\n",
    "        print(f\"Layer: {name}, Max: {max_val}, Min: {min_val}\")"
   ]
  },
  {
   "cell_type": "code",
   "execution_count": 9,
   "metadata": {},
   "outputs": [
    {
     "name": "stdout",
     "output_type": "stream",
     "text": [
      "Total Parameters: 11176512\n",
      "Valid Parameters (Not NaN): 0\n"
     ]
    }
   ],
   "source": [
    "# Count total parameters and parameters that are not NaN\n",
    "total_params = 0\n",
    "valid_params = 0\n",
    "\n",
    "# Iterate through all the parameters\n",
    "for param in resnet.parameters():\n",
    "    total_params += param.numel()  # Count total parameters\n",
    "    valid_params += torch.sum(~torch.isnan(param)).item()  # Count non-NaN parameters\n",
    "\n",
    "print(f\"Total Parameters: {total_params}\")\n",
    "print(f\"Valid Parameters (Not NaN): {valid_params}\")"
   ]
  }
 ],
 "metadata": {
  "kernelspec": {
   "display_name": "cl_ssl",
   "language": "python",
   "name": "python3"
  },
  "language_info": {
   "codemirror_mode": {
    "name": "ipython",
    "version": 3
   },
   "file_extension": ".py",
   "mimetype": "text/x-python",
   "name": "python",
   "nbconvert_exporter": "python",
   "pygments_lexer": "ipython3",
   "version": "3.10.13"
  }
 },
 "nbformat": 4,
 "nbformat_minor": 2
}
